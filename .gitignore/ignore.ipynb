{
 "cells": [
  {
   "cell_type": "code",
   "execution_count": 42,
   "metadata": {},
   "outputs": [
    {
     "name": "stdout",
     "output_type": "stream",
     "text": [
      "[1, 1, 2, 2, 3, 3]\n"
     ]
    }
   ],
   "source": [
    "nums = [1,1,1,2,2,3,3]\n",
    "counter = 1\n",
    "k = 0\n",
    "\n",
    "for i in range(1,len(nums)):\n",
    "    if nums[i] == nums[i-1]:\n",
    "        counter += 1\n",
    "    counter = 1\n",
    "\n",
    "    if counter <= 2:\n",
    "        nums[k] = nums[i]\n",
    "        k+=1\n",
    "    \n",
    "print(nums[:k])"
   ]
  }
 ],
 "metadata": {
  "kernelspec": {
   "display_name": "Python 3",
   "language": "python",
   "name": "python3"
  },
  "language_info": {
   "codemirror_mode": {
    "name": "ipython",
    "version": 3
   },
   "file_extension": ".py",
   "mimetype": "text/x-python",
   "name": "python",
   "nbconvert_exporter": "python",
   "pygments_lexer": "ipython3",
   "version": "3.12.5"
  }
 },
 "nbformat": 4,
 "nbformat_minor": 2
}
