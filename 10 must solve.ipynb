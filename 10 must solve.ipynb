{
 "cells": [
  {
   "cell_type": "code",
   "execution_count": 39,
   "metadata": {},
   "outputs": [
    {
     "data": {
      "text/plain": [
       "[1, 2]"
      ]
     },
     "execution_count": 39,
     "metadata": {},
     "output_type": "execute_result"
    }
   ],
   "source": [
    "# Two sum\n",
    "\n",
    "def twoSum(nums:list,target:int) -> list:\n",
    "\n",
    "# Brute force solution\n",
    "\n",
    "    # for i in range(0,len(nums)-1):\n",
    "    #     for  j in range(1,len(nums)):\n",
    "    #         if nums[i] + nums[j] == target:\n",
    "    #             return [i,j]\n",
    "        \n",
    "# -----------------------------------------------------------------------------------\n",
    "\n",
    "# Optimal solution\n",
    "\n",
    "    # initailize an empty dict to store the value : index position\n",
    "    map = {}\n",
    "\n",
    "    # loop through the list of nums and insert the values\n",
    "    for index in range(len(nums)):\n",
    "            # key         # value\n",
    "        map[nums[index]] = index    \n",
    "\n",
    "    for index in range(len(nums)):\n",
    "        complement = target - nums[index]\n",
    "        if complement in map and map[complement] != index:\n",
    "            return [index,map[complement]]\n",
    "\n",
    "nums = [11,2,7,15]  \n",
    "target = 9\n",
    "twoSum(nums,target)"
   ]
  },
  {
   "cell_type": "code",
   "execution_count": 45,
   "metadata": {},
   "outputs": [
    {
     "data": {
      "text/plain": [
       "998"
      ]
     },
     "execution_count": 45,
     "metadata": {},
     "output_type": "execute_result"
    }
   ],
   "source": [
    "# roman -> integer\n",
    "\n",
    "def romanToInteger(s:str) -> str:\n",
    "    roman = {'I': 1, 'V': 5, 'X': 10, 'L': 50,'C': 100, 'D': 500, 'M': 1000}\n",
    "    total = 0\n",
    "\n",
    "    for index in range(len(s)):\n",
    "        if index + 1 < len(s) and roman[s[index]] < roman[s[index+1]]:\n",
    "            total -= roman[s[index]]\n",
    "        else:\n",
    "            total += roman[s[index]]\n",
    "    return total\n",
    "\n",
    "s = 'CMXCVIII'\n",
    "romanToInteger(s)"
   ]
  },
  {
   "cell_type": "code",
   "execution_count": 78,
   "metadata": {},
   "outputs": [
    {
     "data": {
      "text/plain": [
       "True"
      ]
     },
     "execution_count": 78,
     "metadata": {},
     "output_type": "execute_result"
    }
   ],
   "source": [
    "# palindrome\n",
    "\n",
    "def palindrome(nums:int) -> bool:\n",
    "# converting to string\n",
    "\n",
    "    # converted = str(nums)\n",
    "    # if converted[::-1] == converted:\n",
    "    #     return True\n",
    "    # else:\n",
    "    #     return False\n",
    "\n",
    "# without converting\n",
    "\n",
    "    copy = nums\n",
    "    container = 0\n",
    "\n",
    "    while copy > 0:\n",
    "        container = (container * 10) + (copy % 10)\n",
    "        copy = copy // 10\n",
    "    if container == nums:\n",
    "        return True\n",
    "    else:\n",
    "        return False\n",
    "\n",
    "nums = 121\n",
    "palindrome(nums)"
   ]
  }
 ],
 "metadata": {
  "kernelspec": {
   "display_name": "Python 3",
   "language": "python",
   "name": "python3"
  },
  "language_info": {
   "codemirror_mode": {
    "name": "ipython",
    "version": 3
   },
   "file_extension": ".py",
   "mimetype": "text/x-python",
   "name": "python",
   "nbconvert_exporter": "python",
   "pygments_lexer": "ipython3",
   "version": "3.12.5"
  }
 },
 "nbformat": 4,
 "nbformat_minor": 2
}
