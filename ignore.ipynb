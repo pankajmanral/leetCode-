{
 "cells": [
  {
   "cell_type": "code",
   "execution_count": 12,
   "metadata": {},
   "outputs": [
    {
     "name": "stdout",
     "output_type": "stream",
     "text": [
      "prime\n"
     ]
    }
   ],
   "source": [
    "num = 13\n",
    "def prime(num):\n",
    "    counter = 1 \n",
    "    for i in range(2,num+1):\n",
    "        if num % i == 0:\n",
    "            counter += 1\n",
    "        \n",
    "    if counter <= 2:\n",
    "        return \"prime\"\n",
    "    return \"not prime\"\n",
    "\n",
    "result = prime(num)\n",
    "print(result)"
   ]
  },
  {
   "cell_type": "code",
   "execution_count": 31,
   "metadata": {},
   "outputs": [
    {
     "name": "stdout",
     "output_type": "stream",
     "text": [
      "40320\n"
     ]
    }
   ],
   "source": [
    "num = 8\n",
    "fact = 1\n",
    "for i in range(1,num+1):\n",
    "    fact *= i\n",
    "\n",
    "print(fact)    "
   ]
  },
  {
   "cell_type": "code",
   "execution_count": 39,
   "metadata": {},
   "outputs": [
    {
     "name": "stdout",
     "output_type": "stream",
     "text": [
      "Arsmstrong\n",
      "not\n"
     ]
    }
   ],
   "source": [
    "num = 153\n",
    "power = len(str(num))\n",
    "sum = 0\n",
    "copy = num\n",
    "\n",
    "while copy > 0:\n",
    "    sum += (copy % 10) ** power\n",
    "    copy = copy // 10\n",
    "\n",
    "if sum == num:\n",
    "    print(\"Arsmstrong\")\n",
    "print(\"not\")"
   ]
  },
  {
   "cell_type": "code",
   "execution_count": 49,
   "metadata": {},
   "outputs": [
    {
     "name": "stdout",
     "output_type": "stream",
     "text": [
      "[1, 2, 3]\n"
     ]
    }
   ],
   "source": [
    "nums = [1,1,1,2,2,3,3]\n",
    "k = 0\n",
    "\n",
    "for i in range(len(nums)-1):\n",
    "    if nums[i] != nums[i+1]:\n",
    "        nums[k] = nums[i]\n",
    "        k += 1\n",
    "\n",
    "nums[k] = nums[-1]\n",
    "k += 1 \n",
    "print(nums[:k])"
   ]
  },
  {
   "cell_type": "code",
   "execution_count": 52,
   "metadata": {},
   "outputs": [
    {
     "name": "stdout",
     "output_type": "stream",
     "text": [
      "Not\n"
     ]
    }
   ],
   "source": [
    "num = 122\n",
    "container = 0\n",
    "copy = num \n",
    "\n",
    "while copy > 0:\n",
    "    container = (container * 10) + (copy % 10)\n",
    "    copy = copy // 10\n",
    "\n",
    "if num == container:\n",
    "    print('Plaindrome')\n",
    "print(\"Not\")"
   ]
  },
  {
   "cell_type": "code",
   "execution_count": 9,
   "metadata": {},
   "outputs": [
    {
     "name": "stdout",
     "output_type": "stream",
     "text": [
      "[[1, 2, 3], [4, 5, 6], [7, 8, 9]]\n"
     ]
    }
   ],
   "source": [
    "main = []\n",
    "counter = 1\n",
    "for i in range(1,4):\n",
    "    small = []\n",
    "    for j in range(1,4):\n",
    "        small.append(counter)\n",
    "        counter += 1\n",
    "    main.append(small)\n",
    "\n",
    "print(main)"
   ]
  },
  {
   "cell_type": "code",
   "execution_count": null,
   "metadata": {},
   "outputs": [
    {
     "name": "stdout",
     "output_type": "stream",
     "text": [
      "pankaj\n",
      "is\n",
      "a\n",
      "boy\n"
     ]
    }
   ],
   "source": [
    "name = 'pankaj is a boy'    \n",
    "\n",
    "# name.upper()\n",
    "\n",
    "# name.lower()\n",
    "\n",
    "# name.capitalize() \n",
    "    # capitalize only the first letter \n",
    "\n",
    "# name.count('a')\n",
    "    # count the occurance of the str/letter\n",
    "\n",
    "# name.endswith('y')\n",
    "#     return a boolean value \n",
    "\n",
    "# name.__contains__('ka')\n",
    "#     return a boolean value\n",
    "\n",
    "# name.find('a')\n",
    "    # return the first occurance of the value provided\n",
    "\n",
    "# name.startswith('pa')\n",
    "namelist = name.split()\n",
    "\n",
    "for i in range(len(namelist)):\n",
    "    print(namelist[i])"
   ]
  },
  {
   "cell_type": "code",
   "execution_count": 10,
   "metadata": {},
   "outputs": [
    {
     "name": "stdout",
     "output_type": "stream",
     "text": [
      "1 2 3\n"
     ]
    }
   ],
   "source": [
    "num = [1,2,3]\n",
    "type(num)\n",
    "\n",
    "output = ' '.join(map(str,num))\n",
    "print(output)"
   ]
  },
  {
   "cell_type": "code",
   "execution_count": null,
   "metadata": {},
   "outputs": [
    {
     "name": "stdout",
     "output_type": "stream",
     "text": [
      "['p', 'a', 'n', 'k', 'a', 'j']\n"
     ]
    },
    {
     "data": {
      "text/plain": [
       "3"
      ]
     },
     "execution_count": 24,
     "metadata": {},
     "output_type": "execute_result"
    }
   ],
   "source": [
    "a = 'pankaj'\n",
    "name = list(a)\n",
    "print(name)\n",
    "a.find('k')"
   ]
  },
  {
   "cell_type": "code",
   "execution_count": 33,
   "metadata": {},
   "outputs": [
    {
     "name": "stdout",
     "output_type": "stream",
     "text": [
      "0 apple\n",
      "1 banana\n",
      "2 cherry\n"
     ]
    }
   ],
   "source": [
    "fruit = [\"apple\", \"banana\", \"cherry\"]\n",
    "\n",
    "for a,b in enumerate(fruit):\n",
    "    print(a,b)"
   ]
  },
  {
   "cell_type": "code",
   "execution_count": 129,
   "metadata": {},
   "outputs": [
    {
     "name": "stdout",
     "output_type": "stream",
     "text": [
      "True\n",
      "False\n",
      "False\n",
      "False\n",
      "False\n",
      "False\n",
      "False\n",
      "False\n",
      "False\n",
      "False\n",
      "False\n",
      "False\n",
      "False\n"
     ]
    }
   ],
   "source": [
    "a = ['p', 'a', 'n', 'k', 'a', 'j']\n",
    "b = ['p','l']\n",
    "for akey,avalue in enumerate(a):\n",
    "    for bkey,bvalue in enumerate(b):\n",
    "        if avalue == bvalue:\n",
    "            print(True) \n",
    "        print(False)"
   ]
  },
  {
   "cell_type": "code",
   "execution_count": 49,
   "metadata": {},
   "outputs": [
    {
     "name": "stdout",
     "output_type": "stream",
     "text": [
      "one two one "
     ]
    }
   ],
   "source": [
    "numbers = {\n",
    "    '1' : 'one',\n",
    "    '2' : 'two',\n",
    "    '3' : 'three',\n",
    "    '4' : 'four'\n",
    "}\n",
    "\n",
    "num = '121'\n",
    "\n",
    "for i in num:\n",
    "    for key,value in numbers.items():\n",
    "        if i == key:\n",
    "            print(value,end=' ')"
   ]
  },
  {
   "cell_type": "code",
   "execution_count": null,
   "metadata": {},
   "outputs": [
    {
     "name": "stdout",
     "output_type": "stream",
     "text": [
      "0 one\n",
      "1 two\n",
      "2 three\n",
      "3 four\n",
      "4 five\n"
     ]
    }
   ],
   "source": [
    "numbers = ['one','two','three','four','five']\n",
    "for i,j in enumerate(numbers):\n",
    "    print(i,j)"
   ]
  },
  {
   "cell_type": "code",
   "execution_count": 123,
   "metadata": {},
   "outputs": [
    {
     "data": {
      "text/plain": [
       "True"
      ]
     },
     "execution_count": 123,
     "metadata": {},
     "output_type": "execute_result"
    }
   ],
   "source": [
    "def some(a:str,b:str) -> bool:\n",
    "    alist = list(a)\n",
    "    blist = list(b)\n",
    "\n",
    "    for i in blist:\n",
    "        if i in alist:\n",
    "            return True\n",
    "        return False\n",
    "    \n",
    "name = 'pankaj'\n",
    "find = 'p'\n",
    "some(name,find)"
   ]
  },
  {
   "cell_type": "code",
   "execution_count": 8,
   "metadata": {},
   "outputs": [
    {
     "name": "stdout",
     "output_type": "stream",
     "text": [
      "1 2 3 4 "
     ]
    }
   ],
   "source": [
    "x = 1\n",
    "while True:\n",
    "    if x % 5 == 0:\n",
    "        break\n",
    "    print(x,end=' ')\n",
    "    x += 1"
   ]
  },
  {
   "cell_type": "code",
   "execution_count": 3,
   "metadata": {},
   "outputs": [
    {
     "name": "stdout",
     "output_type": "stream",
     "text": [
      "3 c\n"
     ]
    }
   ],
   "source": [
    "list = [\n",
    "    ['a','b',['c',10]],\n",
    "    ['p',[1,2,3],'q','r'],\n",
    "    [7,8,9,['x','y','z']]\n",
    "]\n",
    "print(list[1][1][2],list[0][2][0])"
   ]
  },
  {
   "cell_type": "code",
   "execution_count": 6,
   "metadata": {},
   "outputs": [
    {
     "name": "stdout",
     "output_type": "stream",
     "text": [
      "not\n"
     ]
    }
   ],
   "source": [
    "if('p' in 'Python'):\n",
    "    print('P is proee')\n",
    "else:\n",
    "    print(\"not\")"
   ]
  },
  {
   "cell_type": "code",
   "execution_count": 7,
   "metadata": {},
   "outputs": [
    {
     "name": "stdout",
     "output_type": "stream",
     "text": [
      "1234567"
     ]
    }
   ],
   "source": [
    "a = 1\n",
    "while True:\n",
    "    if a & 7 == 0:\n",
    "        break\n",
    "    print(a,end='')\n",
    "    a += 1"
   ]
  },
  {
   "cell_type": "code",
   "execution_count": 12,
   "metadata": {},
   "outputs": [
    {
     "name": "stdout",
     "output_type": "stream",
     "text": [
      "hello\n",
      "!\n"
     ]
    }
   ],
   "source": [
    "if ('' or 5 and True):\n",
    "    print(\"hello\")\n",
    "else:\n",
    "    print(\"Hi\")\n",
    "print('!')"
   ]
  },
  {
   "cell_type": "code",
   "execution_count": 15,
   "metadata": {},
   "outputs": [
    {
     "ename": "TypeError",
     "evalue": "'list' object is not callable",
     "output_type": "error",
     "traceback": [
      "\u001b[1;31m---------------------------------------------------------------------------\u001b[0m",
      "\u001b[1;31mTypeError\u001b[0m                                 Traceback (most recent call last)",
      "Cell \u001b[1;32mIn[15], line 4\u001b[0m\n\u001b[0;32m      2\u001b[0m list2 \u001b[38;5;241m=\u001b[39m [\u001b[38;5;241m2\u001b[39m,\u001b[38;5;241m4\u001b[39m,\u001b[38;5;241m5\u001b[39m,\u001b[38;5;241m6\u001b[39m]\n\u001b[0;32m      3\u001b[0m list3 \u001b[38;5;241m=\u001b[39m [\u001b[38;5;241m2\u001b[39m,\u001b[38;5;241m6\u001b[39m,\u001b[38;5;241m7\u001b[39m,\u001b[38;5;241m8\u001b[39m]\n\u001b[1;32m----> 4\u001b[0m result \u001b[38;5;241m=\u001b[39m \u001b[38;5;28;43mlist\u001b[39;49m\u001b[43m(\u001b[49m\u001b[43m)\u001b[49m\n\u001b[0;32m      6\u001b[0m result\u001b[38;5;241m.\u001b[39mextend(i \u001b[38;5;28;01mfor\u001b[39;00m i \u001b[38;5;129;01min\u001b[39;00m list1 \u001b[38;5;28;01mif\u001b[39;00m i \u001b[38;5;129;01mnot\u001b[39;00m \u001b[38;5;129;01min\u001b[39;00m (list2\u001b[38;5;241m+\u001b[39mlist3) \u001b[38;5;129;01mand\u001b[39;00m i \u001b[38;5;129;01mnot\u001b[39;00m \u001b[38;5;129;01min\u001b[39;00m result)\n\u001b[0;32m      7\u001b[0m result\u001b[38;5;241m.\u001b[39mextend(i \u001b[38;5;28;01mfor\u001b[39;00m i \u001b[38;5;129;01min\u001b[39;00m list2 \u001b[38;5;28;01mif\u001b[39;00m i \u001b[38;5;129;01mnot\u001b[39;00m \u001b[38;5;129;01min\u001b[39;00m (list1\u001b[38;5;241m+\u001b[39mlist3) \u001b[38;5;129;01mand\u001b[39;00m i \u001b[38;5;129;01mnot\u001b[39;00m \u001b[38;5;129;01min\u001b[39;00m result)\n",
      "\u001b[1;31mTypeError\u001b[0m: 'list' object is not callable"
     ]
    }
   ],
   "source": [
    "list1 = [1,2,3,4]\n",
    "list2 = [2,4,5,6]\n",
    "list3 = [2,6,7,8]\n",
    "result = list()\n",
    "\n",
    "result.extend(i for i in list1 if i not in (list2+list3) and i not in result)\n",
    "result.extend(i for i in list2 if i not in (list1+list3) and i not in result)\n",
    "result.extend(i for i in list2 if i not in (list2+list3) and i not in result)\n",
    "\n",
    "print(result)"
   ]
  },
  {
   "cell_type": "code",
   "execution_count": 17,
   "metadata": {},
   "outputs": [
    {
     "name": "stdout",
     "output_type": "stream",
     "text": [
      "5\n"
     ]
    }
   ],
   "source": [
    "x = 5\n",
    "y = 3\n",
    "z = 2\n",
    "if(y-z >5-y):\n",
    "    y = y+ 3\n",
    "\n",
    "elif (z-x):\n",
    "    z = z+ 4\n",
    "else:\n",
    "    x = x -1 \n",
    "\n",
    "print(x+y*2-z)"
   ]
  },
  {
   "cell_type": "code",
   "execution_count": 76,
   "metadata": {},
   "outputs": [
    {
     "ename": "SyntaxError",
     "evalue": "invalid syntax (3266481886.py, line 1)",
     "output_type": "error",
     "traceback": [
      "\u001b[1;36m  Cell \u001b[1;32mIn[76], line 1\u001b[1;36m\u001b[0m\n\u001b[1;33m    9! > '9'\u001b[0m\n\u001b[1;37m     ^\u001b[0m\n\u001b[1;31mSyntaxError\u001b[0m\u001b[1;31m:\u001b[0m invalid syntax\n"
     ]
    }
   ],
   "source": [
    "9! > '9'"
   ]
  },
  {
   "cell_type": "code",
   "execution_count": 62,
   "metadata": {},
   "outputs": [
    {
     "name": "stdout",
     "output_type": "stream",
     "text": [
      "1\n",
      "2\n",
      "3\n",
      "4\n",
      "5\n",
      "6\n"
     ]
    }
   ],
   "source": [
    "a = 1\n",
    "while True:\n",
    "    if a % 7 ==0:\n",
    "        break\n",
    "    print(a)\n",
    "    a+=1"
   ]
  },
  {
   "cell_type": "code",
   "execution_count": 80,
   "metadata": {},
   "outputs": [
    {
     "name": "stdout",
     "output_type": "stream",
     "text": [
      "1\n",
      "2\n",
      "3\n",
      "4\n",
      "5\n",
      "6\n"
     ]
    }
   ],
   "source": [
    "a = 1\n",
    "while True:\n",
    "    if a % 7 == 0:\n",
    "        break\n",
    "    print(a)\n",
    "    a += 1"
   ]
  },
  {
   "cell_type": "code",
   "execution_count": null,
   "metadata": {},
   "outputs": [
    {
     "name": "stdout",
     "output_type": "stream",
     "text": [
      "Hello\n",
      "Hello\n",
      "Hello\n",
      "Hello\n"
     ]
    }
   ],
   "source": [
    "i = 0 \n",
    "while i < 4:\n",
    "    print(\"Hello\")\n",
    "    i += 1 "
   ]
  },
  {
   "cell_type": "code",
   "execution_count": 8,
   "metadata": {},
   "outputs": [
    {
     "name": "stdout",
     "output_type": "stream",
     "text": [
      "[0, 1, 2, 3, 4]\n"
     ]
    }
   ],
   "source": [
    "nums = [0,0,1,1,1,2,2,3,3,4,4]\n",
    "k = 0\n",
    "for i in range(len(nums)-1):\n",
    "    if nums[i] != nums[i+1]:\n",
    "        nums[k] = nums[i]\n",
    "        k+=1\n",
    "nums[k] = nums[-1]\n",
    "k+=1\n",
    "print(nums[:k])"
   ]
  },
  {
   "cell_type": "code",
   "execution_count": 10,
   "metadata": {},
   "outputs": [
    {
     "name": "stdout",
     "output_type": "stream",
     "text": [
      "2\n",
      "[2, 2]\n"
     ]
    }
   ],
   "source": [
    "nums = [3,2,2,3]\n",
    "val = 3\n",
    "k = 0\n",
    "for i in range(len(nums)-1):\n",
    "    if nums[i] != val:\n",
    "        nums[k] = nums[i]\n",
    "        k+=1\n",
    "print(k)\n",
    "print(nums[:k])"
   ]
  },
  {
   "cell_type": "code",
   "execution_count": 3,
   "metadata": {},
   "outputs": [
    {
     "name": "stdout",
     "output_type": "stream",
     "text": [
      "[0, 1, 2, 3, 4]\n"
     ]
    }
   ],
   "source": [
    "nums = [0,0,1,1,1,2,2,3,3,4,4]\n",
    "k = []\n",
    "\n",
    "for i in range(len(nums)-1):\n",
    "    if nums[i] != nums[i+1]:\n",
    "        k.append(nums[i])\n",
    "k.append(nums[-1])\n",
    "print(k)"
   ]
  },
  {
   "cell_type": "code",
   "execution_count": 4,
   "metadata": {},
   "outputs": [
    {
     "name": "stdout",
     "output_type": "stream",
     "text": [
      "[0, 1, 2, 3, 4]\n"
     ]
    }
   ],
   "source": [
    "nums = [0,0,1,1,1,2,2,3,3,4,4]\n",
    "new = []\n",
    "\n",
    "for i in nums:\n",
    "    if i not in new:\n",
    "        new.append(i)\n",
    "\n",
    "print(new)"
   ]
  },
  {
   "cell_type": "code",
   "execution_count": 5,
   "metadata": {},
   "outputs": [
    {
     "name": "stdout",
     "output_type": "stream",
     "text": [
      "[1, 2, 3, 5, 6]\n"
     ]
    }
   ],
   "source": [
    "nums = [1,2,3,4,5,6]\n",
    "val = 3\n",
    "for i in nums:\n",
    "    if val == i:\n",
    "        nums.pop(i)\n",
    "\n",
    "print(nums)"
   ]
  },
  {
   "cell_type": "code",
   "execution_count": 7,
   "metadata": {},
   "outputs": [
    {
     "name": "stdout",
     "output_type": "stream",
     "text": [
      "[1, 2, 3, 5, 6, 7, 8]\n"
     ]
    }
   ],
   "source": [
    "nums = [1,2,3,4,5,6,7,8]\n",
    "val = 4\n",
    "k = []\n",
    "\n",
    "for i in range(len(nums)):\n",
    "    if nums[i] != val:\n",
    "        k.append(nums[i])\n",
    "\n",
    "print(k)"
   ]
  },
  {
   "cell_type": "code",
   "execution_count": null,
   "metadata": {},
   "outputs": [],
   "source": [
    "num = [1,2,3,4,5,6]\n",
    "val = 3\n",
    "for i in range(len(num)):\n",
    "    if num[i] == val:\n",
    "        num = num[0:i] + num[i+1:]\n",
    "\n",
    "print(num)"
   ]
  },
  {
   "cell_type": "code",
   "execution_count": 29,
   "metadata": {},
   "outputs": [
    {
     "name": "stdout",
     "output_type": "stream",
     "text": [
      "[0, 0, 1, 1, 2, 2, 3, 5, 5, 6]\n"
     ]
    }
   ],
   "source": [
    "nums = [0,0,0,1,1,1,1,2,2,2,3,5,5,5,5,6]\n",
    "counter = 1\n",
    "k = []\n",
    "for i in range(len(nums)-1):\n",
    "    if nums[i] == nums[i+1]:\n",
    "        counter += 1\n",
    "    else:\n",
    "        counter = 1\n",
    "\n",
    "    if counter <= 2:\n",
    "        k.append(nums[i])\n",
    "k.append(nums[-1])\n",
    "\n",
    "print(k)"
   ]
  },
  {
   "cell_type": "code",
   "execution_count": 16,
   "metadata": {},
   "outputs": [],
   "source": [
    "def check(a):\n",
    "    check = len(a[0])\n",
    "    for i in a:\n",
    "        if len(i) != check:\n",
    "            return False\n",
    "    b = []\n",
    "    for j in range(len(a[0]-1,-1,-1)):\n",
    "        b.append(list())\n",
    "        for i in range(len(a)):\n",
    "            print(a[i][j],end='  ')\n",
    "            b[len(a)-j-1].append(a[i][j])\n",
    "        print()\n",
    "    return b\n",
    "\n",
    "# default \n",
    "# i = row -> vertical\n",
    "# j = column -> horizontal \n",
    "\n",
    "# in this question the dafault should be reversed "
   ]
  },
  {
   "cell_type": "code",
   "execution_count": null,
   "metadata": {},
   "outputs": [
    {
     "ename": "TypeError",
     "evalue": "unsupported operand type(s) for -: 'list' and 'int'",
     "output_type": "error",
     "traceback": [
      "\u001b[1;31m---------------------------------------------------------------------------\u001b[0m",
      "\u001b[1;31mTypeError\u001b[0m                                 Traceback (most recent call last)",
      "Cell \u001b[1;32mIn[13], line 6\u001b[0m\n\u001b[0;32m      1\u001b[0m a \u001b[38;5;241m=\u001b[39m [[\u001b[38;5;241m1\u001b[39m,\u001b[38;5;241m2\u001b[39m,\u001b[38;5;241m3\u001b[39m],\n\u001b[0;32m      2\u001b[0m      [\u001b[38;5;241m4\u001b[39m,\u001b[38;5;241m5\u001b[39m,\u001b[38;5;241m6\u001b[39m],\n\u001b[0;32m      3\u001b[0m      [\u001b[38;5;241m7\u001b[39m,\u001b[38;5;241m8\u001b[39m,\u001b[38;5;241m9\u001b[39m],\n\u001b[0;32m      4\u001b[0m     ]\n\u001b[1;32m----> 6\u001b[0m \u001b[43mcheck\u001b[49m\u001b[43m(\u001b[49m\u001b[43ma\u001b[49m\u001b[43m)\u001b[49m\n",
      "Cell \u001b[1;32mIn[12], line 7\u001b[0m, in \u001b[0;36mcheck\u001b[1;34m(a)\u001b[0m\n\u001b[0;32m      5\u001b[0m         \u001b[38;5;28;01mreturn\u001b[39;00m \u001b[38;5;28;01mFalse\u001b[39;00m\n\u001b[0;32m      6\u001b[0m b \u001b[38;5;241m=\u001b[39m []\n\u001b[1;32m----> 7\u001b[0m \u001b[38;5;28;01mfor\u001b[39;00m j \u001b[38;5;129;01min\u001b[39;00m \u001b[38;5;28mrange\u001b[39m(\u001b[38;5;28mlen\u001b[39m(\u001b[43ma\u001b[49m\u001b[43m[\u001b[49m\u001b[38;5;241;43m0\u001b[39;49m\u001b[43m]\u001b[49m\u001b[38;5;241;43m-\u001b[39;49m\u001b[38;5;241;43m1\u001b[39;49m,\u001b[38;5;241m-\u001b[39m\u001b[38;5;241m1\u001b[39m,\u001b[38;5;241m-\u001b[39m\u001b[38;5;241m1\u001b[39m)):\n\u001b[0;32m      8\u001b[0m     b\u001b[38;5;241m.\u001b[39mappend(\u001b[38;5;28mlist\u001b[39m())\n\u001b[0;32m      9\u001b[0m     \u001b[38;5;28;01mfor\u001b[39;00m i \u001b[38;5;129;01min\u001b[39;00m \u001b[38;5;28mrange\u001b[39m(\u001b[38;5;28mlen\u001b[39m(a)):\n",
      "\u001b[1;31mTypeError\u001b[0m: unsupported operand type(s) for -: 'list' and 'int'"
     ]
    }
   ],
   "source": [
    "a = [[1,2,3],\n",
    "     [4,5,6],\n",
    "     [7,8,9],\n",
    "    ]\n",
    "\n",
    "check(a)"
   ]
  },
  {
   "cell_type": "code",
   "execution_count": 23,
   "metadata": {},
   "outputs": [],
   "source": [
    "def check(a):\n",
    "    check = len(a[0])\n",
    "    for i in a:\n",
    "        if len(i) != check:\n",
    "            return False\n",
    "    b = []\n",
    "    for j in range(len(a[0])):\n",
    "        b.append(list())\n",
    "        for i in range(len(a)):\n",
    "            print(a[i][j],end='  ')\n",
    "            b[len(a)-j-1].append(a[i][j])\n",
    "        print()\n",
    "    return b"
   ]
  },
  {
   "cell_type": "code",
   "execution_count": null,
   "metadata": {},
   "outputs": [
    {
     "name": "stdout",
     "output_type": "stream",
     "text": [
      "1  "
     ]
    },
    {
     "ename": "IndexError",
     "evalue": "list index out of range",
     "output_type": "error",
     "traceback": [
      "\u001b[1;31m---------------------------------------------------------------------------\u001b[0m",
      "\u001b[1;31mIndexError\u001b[0m                                Traceback (most recent call last)",
      "Cell \u001b[1;32mIn[24], line 6\u001b[0m\n\u001b[0;32m      1\u001b[0m a \u001b[38;5;241m=\u001b[39m [[\u001b[38;5;241m1\u001b[39m,\u001b[38;5;241m2\u001b[39m,\u001b[38;5;241m3\u001b[39m],\n\u001b[0;32m      2\u001b[0m      [\u001b[38;5;241m4\u001b[39m,\u001b[38;5;241m5\u001b[39m,\u001b[38;5;241m6\u001b[39m],\n\u001b[0;32m      3\u001b[0m      [\u001b[38;5;241m7\u001b[39m,\u001b[38;5;241m8\u001b[39m,\u001b[38;5;241m9\u001b[39m],\n\u001b[0;32m      4\u001b[0m     ]\n\u001b[1;32m----> 6\u001b[0m \u001b[43mcheck\u001b[49m\u001b[43m(\u001b[49m\u001b[43ma\u001b[49m\u001b[43m)\u001b[49m\n",
      "Cell \u001b[1;32mIn[23], line 11\u001b[0m, in \u001b[0;36mcheck\u001b[1;34m(a)\u001b[0m\n\u001b[0;32m      9\u001b[0m     \u001b[38;5;28;01mfor\u001b[39;00m i \u001b[38;5;129;01min\u001b[39;00m \u001b[38;5;28mrange\u001b[39m(\u001b[38;5;28mlen\u001b[39m(a)):\n\u001b[0;32m     10\u001b[0m         \u001b[38;5;28mprint\u001b[39m(a[i][j],end\u001b[38;5;241m=\u001b[39m\u001b[38;5;124m'\u001b[39m\u001b[38;5;124m  \u001b[39m\u001b[38;5;124m'\u001b[39m)\n\u001b[1;32m---> 11\u001b[0m         \u001b[43mb\u001b[49m\u001b[43m[\u001b[49m\u001b[38;5;28;43mlen\u001b[39;49m\u001b[43m(\u001b[49m\u001b[43ma\u001b[49m\u001b[43m)\u001b[49m\u001b[38;5;241;43m-\u001b[39;49m\u001b[43mj\u001b[49m\u001b[38;5;241;43m-\u001b[39;49m\u001b[38;5;241;43m1\u001b[39;49m\u001b[43m]\u001b[49m\u001b[38;5;241m.\u001b[39mappend(a[i][j])\n\u001b[0;32m     12\u001b[0m     \u001b[38;5;28mprint\u001b[39m()\n\u001b[0;32m     13\u001b[0m \u001b[38;5;28;01mreturn\u001b[39;00m b\n",
      "\u001b[1;31mIndexError\u001b[0m: list index out of range"
     ]
    }
   ],
   "source": [
    "a = [[1,2,3],\n",
    "[4,5,6],\n",
    "[7,8,9],\n",
    "]\n",
    "\n",
    "check(a)"
   ]
  },
  {
   "cell_type": "code",
   "execution_count": 26,
   "metadata": {},
   "outputs": [
    {
     "name": "stdout",
     "output_type": "stream",
     "text": [
      "10\n",
      "9\n",
      "8\n",
      "7\n",
      "6\n",
      "5\n",
      "4\n",
      "3\n",
      "2\n",
      "1\n"
     ]
    }
   ],
   "source": [
    "for i in range(10,0,-1):\n",
    "    print(i)"
   ]
  },
  {
   "cell_type": "code",
   "execution_count": 27,
   "metadata": {},
   "outputs": [
    {
     "name": "stdout",
     "output_type": "stream",
     "text": [
      "0 0\n",
      "0 1\n",
      "0 2\n",
      "1 0\n",
      "1 1\n",
      "1 2\n",
      "2 0\n",
      "2 1\n",
      "2 2\n"
     ]
    }
   ],
   "source": [
    "for i in range(0,3):\n",
    "    for j in range(0,3):\n",
    "        print(i,j)"
   ]
  },
  {
   "cell_type": "code",
   "execution_count": 12,
   "metadata": {},
   "outputs": [
    {
     "name": "stdout",
     "output_type": "stream",
     "text": [
      "1 - 1\n",
      "1 - 2\n",
      "1 - 3\n",
      "2 - 1\n",
      "2 - 2\n",
      "2 - 3\n",
      "3 - 1\n",
      "3 - 2\n",
      "3 - 3\n"
     ]
    }
   ],
   "source": [
    "for i in range(1,4):\n",
    "    for j in range(1,4):\n",
    "        print(i,j,sep=' - ')"
   ]
  },
  {
   "cell_type": "markdown",
   "metadata": {},
   "source": [
    "# default \n",
    "# i = row -> vertical\n",
    "# j = column -> horizontal \n",
    "\n",
    "# in this question the dafault should be reversed "
   ]
  },
  {
   "cell_type": "code",
   "execution_count": 73,
   "metadata": {},
   "outputs": [],
   "source": [
    "def clock(a):\n",
    "\n",
    "    check = len(a[0])\n",
    "    for i in a:\n",
    "        if len(i)!=check:\n",
    "            return False\n",
    "\n",
    "    b=[]\n",
    "    for j in range(len(a[0])):\n",
    "        b.append(list())\n",
    "        for i in range(len(a[0])-1,-1,-1):\n",
    "            print(a[i][j],end=\" \")\n",
    "            b[j].append(a[i][j])\n",
    "        print()\n",
    "    return b"
   ]
  },
  {
   "cell_type": "code",
   "execution_count": 74,
   "metadata": {},
   "outputs": [],
   "source": [
    "a = [\n",
    "    [1, 2, 3],\n",
    "    [4, 5, 6],\n",
    "    [7, 8, 9]\n",
    "]"
   ]
  },
  {
   "cell_type": "code",
   "execution_count": 75,
   "metadata": {},
   "outputs": [
    {
     "name": "stdout",
     "output_type": "stream",
     "text": [
      "7 4 1 \n",
      "8 5 2 \n",
      "9 6 3 \n"
     ]
    }
   ],
   "source": [
    "a = clock(a)\n"
   ]
  },
  {
   "cell_type": "code",
   "execution_count": 66,
   "metadata": {},
   "outputs": [
    {
     "ename": "TypeError",
     "evalue": "list.append() takes exactly one argument (0 given)",
     "output_type": "error",
     "traceback": [
      "\u001b[1;31m---------------------------------------------------------------------------\u001b[0m",
      "\u001b[1;31mTypeError\u001b[0m                                 Traceback (most recent call last)",
      "Cell \u001b[1;32mIn[66], line 9\u001b[0m\n\u001b[0;32m      7\u001b[0m b \u001b[38;5;241m=\u001b[39m []\n\u001b[0;32m      8\u001b[0m \u001b[38;5;28;01mfor\u001b[39;00m i \u001b[38;5;129;01min\u001b[39;00m \u001b[38;5;28mrange\u001b[39m(\u001b[38;5;28mlen\u001b[39m(a[\u001b[38;5;241m0\u001b[39m])):\n\u001b[1;32m----> 9\u001b[0m     \u001b[43mb\u001b[49m\u001b[38;5;241;43m.\u001b[39;49m\u001b[43mappend\u001b[49m\u001b[43m(\u001b[49m\u001b[43m)\u001b[49m\n",
      "\u001b[1;31mTypeError\u001b[0m: list.append() takes exactly one argument (0 given)"
     ]
    }
   ],
   "source": [
    "a = [\n",
    "    [1, 2, 3],\n",
    "    [4, 5, 6],\n",
    "    [7, 8, 9]\n",
    "]\n",
    "\n",
    "b = []\n",
    "for i in range(len(a[0])):\n",
    "    b.append()"
   ]
  },
  {
   "cell_type": "code",
   "execution_count": 78,
   "metadata": {},
   "outputs": [
    {
     "name": "stdout",
     "output_type": "stream",
     "text": [
      "2 0\n",
      "1 0\n",
      "0 0\n",
      "2 1\n",
      "1 1\n",
      "0 1\n",
      "2 2\n",
      "1 2\n",
      "0 2\n"
     ]
    }
   ],
   "source": [
    "for i in range(0,3):\n",
    "    for j in range(2,-1,-1):\n",
    "        print(j,i)"
   ]
  },
  {
   "cell_type": "code",
   "execution_count": 85,
   "metadata": {},
   "outputs": [
    {
     "name": "stdout",
     "output_type": "stream",
     "text": [
      "987\n",
      "654\n",
      "321\n"
     ]
    }
   ],
   "source": [
    "b = []\n",
    "for i in range(len(a[0])):\n",
    "    b.append(list())\n",
    "    for j in range(len(a[0])-1,-1,-1):\n",
    "        print(a[j][i],end='')\n",
    "        b.append(a[j][i])\n",
    "    print()"
   ]
  },
  {
   "cell_type": "code",
   "execution_count": 142,
   "metadata": {},
   "outputs": [],
   "source": [
    "def twoSum(nums,target):\n",
    "    start = 0\n",
    "    end = len(nums) - 1\n",
    "    while start < end:\n",
    "        output = []\n",
    "        result = nums[start] + nums[end]\n",
    "        if result == target:\n",
    "            output.append(start)\n",
    "            output.append(end)\n",
    "            return output\n",
    "        elif result > target:\n",
    "            end -= 1\n",
    "        else:   \n",
    "            start += 1"
   ]
  },
  {
   "cell_type": "code",
   "execution_count": 150,
   "metadata": {},
   "outputs": [
    {
     "name": "stdout",
     "output_type": "stream",
     "text": [
      "1 2\n"
     ]
    }
   ],
   "source": [
    "nums = [3,2,4]\n",
    "target = 6\n",
    "for i in range(len(nums)-1):\n",
    "    for j in range(i+1,len(nums)):\n",
    "        if nums[i] + nums[j] == target:\n",
    "            print(i,j)    "
   ]
  },
  {
   "cell_type": "code",
   "execution_count": 173,
   "metadata": {},
   "outputs": [
    {
     "name": "stdout",
     "output_type": "stream",
     "text": [
      "3\n",
      "4\n",
      "2\n"
     ]
    }
   ],
   "source": [
    "nums = [3,2,4]\n",
    "target = 6\n",
    "\n",
    "prevMap = {}\n",
    "for index,value in enumerate(nums):\n",
    "    # print(index,value)\n",
    "\n",
    "    difference = target - value\n",
    "    # print(difference)\n",
    "\n",
    "    if difference in prevMap:\n",
    "        print([prevMap[difference],index])\n",
    "        # print(prevMap)\n",
    "        break\n",
    "    prevMap[value] = index\n"
   ]
  },
  {
   "cell_type": "code",
   "execution_count": 192,
   "metadata": {},
   "outputs": [
    {
     "name": "stdout",
     "output_type": "stream",
     "text": [
      "False\n"
     ]
    }
   ],
   "source": [
    "#palindrome\n",
    "\n",
    "num = -121\n",
    "num = str(num)\n",
    "if num == num[::-1]:\n",
    "    print(True)\n",
    "else:\n",
    "    print(False)"
   ]
  },
  {
   "cell_type": "code",
   "execution_count": 220,
   "metadata": {},
   "outputs": [
    {
     "name": "stdout",
     "output_type": "stream",
     "text": [
      "XVIII\n"
     ]
    }
   ],
   "source": [
    "# roman_to_int = {'I': 1, 'V': 5, 'X': 10, 'L': 50,'C': 100, 'D': 500, 'M': 1000}\n",
    "roman = {50:'L',10:'X',5:'V',1:'I'}\n",
    "num = 18 # 10 + 5 + 1 + 1 + 1\n",
    "result = []\n",
    "\n",
    "for key,values in roman.items():\n",
    "    while num >= key:\n",
    "        result.append(roman[key])\n",
    "        num -= key\n",
    "print(\"\".join(map(str,result)))"
   ]
  },
  {
   "cell_type": "code",
   "execution_count": 221,
   "metadata": {},
   "outputs": [
    {
     "name": "stdout",
     "output_type": "stream",
     "text": [
      "[10, 1, 1]\n"
     ]
    }
   ],
   "source": [
    "num = 12\n",
    "components = [50,10,5,1]\n",
    "result = []\n",
    "\n",
    "for i in components:\n",
    "    while num >= i:\n",
    "        result.append(i)\n",
    "        num -= i\n",
    "print(result)"
   ]
  },
  {
   "cell_type": "code",
   "execution_count": 230,
   "metadata": {},
   "outputs": [
    {
     "ename": "KeyboardInterrupt",
     "evalue": "",
     "output_type": "error",
     "traceback": [
      "\u001b[1;31m---------------------------------------------------------------------------\u001b[0m",
      "\u001b[1;31mKeyboardInterrupt\u001b[0m                         Traceback (most recent call last)",
      "Cell \u001b[1;32mIn[230], line 5\u001b[0m\n\u001b[0;32m      3\u001b[0m output \u001b[38;5;241m=\u001b[39m []\n\u001b[0;32m      4\u001b[0m \u001b[38;5;28;01mfor\u001b[39;00m i \u001b[38;5;129;01min\u001b[39;00m \u001b[38;5;28mrange\u001b[39m(\u001b[38;5;28mlen\u001b[39m(components),\u001b[38;5;241m-\u001b[39m\u001b[38;5;241m1\u001b[39m,\u001b[38;5;241m-\u001b[39m\u001b[38;5;241m1\u001b[39m):\n\u001b[1;32m----> 5\u001b[0m     \u001b[38;5;28;01mwhile\u001b[39;00m num \u001b[38;5;241m>\u001b[39m\u001b[38;5;241m=\u001b[39m i:\n\u001b[0;32m      6\u001b[0m         output\u001b[38;5;241m.\u001b[39mappend(i)\n\u001b[0;32m      7\u001b[0m         num \u001b[38;5;241m-\u001b[39m\u001b[38;5;241m=\u001b[39m i\n",
      "\u001b[1;31mKeyboardInterrupt\u001b[0m: "
     ]
    }
   ],
   "source": [
    "num = 12\n",
    "components = [1,5,10]\n",
    "output = []\n",
    "for i in range(len(components),-1,-1):\n",
    "    while num >= i:\n",
    "        output.append(i)\n",
    "        num -= i\n",
    "print(\"\".join(map(str,output)))"
   ]
  },
  {
   "cell_type": "code",
   "execution_count": 234,
   "metadata": {},
   "outputs": [
    {
     "name": "stdout",
     "output_type": "stream",
     "text": [
      "10\n",
      "5\n",
      "1\n"
     ]
    }
   ],
   "source": [
    "components = [1,5,10]\n",
    "\n",
    "for i in range(len(components)-1,-1,-1):\n",
    "    print(components[i])"
   ]
  },
  {
   "cell_type": "code",
   "execution_count": 285,
   "metadata": {},
   "outputs": [
    {
     "name": "stdout",
     "output_type": "stream",
     "text": [
      "IIII\n"
     ]
    }
   ],
   "source": [
    "roman_to_int = {'I': 1, 'V': 5, 'X': 10, 'L': 50,'C': 100, 'D': 500, 'M': 1000}\n",
    "reversed_dict = {'M':1000}\n",
    "reversed_dict.update( {k:v for k,v in reversed(roman_to_int.items()) if k != 'M'} )\n",
    "\n",
    "num = 4\n",
    "output = []\n",
    "for key,values in reversed_dict.items():\n",
    "    while num >= values:\n",
    "        output.append(key)\n",
    "        num -= values\n",
    "\n",
    "print(\"\".join(map(str,output)))"
   ]
  },
  {
   "cell_type": "code",
   "execution_count": 282,
   "metadata": {},
   "outputs": [],
   "source": [
    "# roman_to_int = {'I': 1, 'V': 5, 'X': 10, 'L': 50,'C': 100, 'D': 500, 'M': 1000}\n",
    "# new_dict = {'M':1000}\n",
    "# new_dict.update({k: v for k, v in reversed(roman_to_int.items()) if k != 'M'})\n",
    "# print(new_dict)\n",
    "\n",
    "\n",
    "roman_to_int = {'I': 1, 'V': 5, 'X': 10, 'L': 50,'C': 100, 'D': 500, 'M': 1000}\n",
    "reversed_dict = {'M':1000}\n",
    "reversed_dict.update( {k:v for k,v in reversed(roman_to_int.items()) if k != 'M'} )"
   ]
  },
  {
   "cell_type": "code",
   "execution_count": 297,
   "metadata": {},
   "outputs": [
    {
     "name": "stdout",
     "output_type": "stream",
     "text": [
      "1218\n"
     ]
    }
   ],
   "source": [
    "roman_to_int = {'I': 1, 'V': 5, 'X': 10, 'L': 50,'C': 100, 'D': 500, 'M': 1000}\n",
    "s = 'CMXCVIII'\n",
    "total = 0\n",
    "for k,v in roman_to_int.items():\n",
    "    for i in s:\n",
    "        if i == k:\n",
    "            total += v\n",
    "\n",
    "print(total)"
   ]
  },
  {
   "cell_type": "code",
   "execution_count": 24,
   "metadata": {},
   "outputs": [
    {
     "name": "stdout",
     "output_type": "stream",
     "text": [
      "998\n"
     ]
    }
   ],
   "source": [
    "roman_to_int = {'I': 1, 'V': 5, 'X': 10, 'L': 50,'C': 100, 'D': 500, 'M': 1000}\n",
    "s = 'CMXCVIII'\n",
    "total = 0\n",
    "\n",
    "for i in range(len(s)):\n",
    "    # print(i,i+1,len(s))\n",
    "    # print(roman_to_int[s[1]])\n",
    "    if i + 1 < len(s) and roman_to_int[s[i]] < roman_to_int[s[i+1]]:\n",
    "        total -= roman_to_int[s[i]]\n",
    "    else:\n",
    "        total += roman_to_int[s[i]]\n",
    "\n",
    "print(total)"
   ]
  },
  {
   "cell_type": "code",
   "execution_count": 3,
   "metadata": {},
   "outputs": [
    {
     "name": "stdout",
     "output_type": "stream",
     "text": [
      "C\n",
      "M\n",
      "X\n",
      "C\n",
      "V\n",
      "I\n",
      "I\n",
      "I\n",
      "998\n"
     ]
    }
   ],
   "source": [
    "roman_to_int = {'I': 1, 'V': 5, 'X': 10, 'L': 50,'C': 100, 'D': 500, 'M': 1000}\n",
    "s = 'CMXCVIII'\n",
    "total = 0\n",
    "\n",
    "for i in range(len(s)):\n",
    "    print(s[i])\n",
    "    if i + 1 < len(s) and roman_to_int[s[i]] < roman_to_int[s[i+1]]:\n",
    "        total -= roman_to_int[s[i]]\n",
    "    else:\n",
    "        total += roman_to_int[s[i]]\n",
    "\n",
    "print(total)"
   ]
  },
  {
   "cell_type": "code",
   "execution_count": 4,
   "metadata": {},
   "outputs": [
    {
     "name": "stdout",
     "output_type": "stream",
     "text": [
      "998\n"
     ]
    }
   ],
   "source": [
    "roman_to_int = {'I': 1, 'V': 5, 'X': 10, 'L': 50,'C': 100, 'D': 500, 'M': 1000}\n",
    "s = 'CMXCVIII'\n",
    "total = 0\n",
    "\n",
    "for i in range(len(s)):\n",
    "    if i + 1 < len(s) and roman_to_int[s[i]] < roman_to_int[s[i+1]]:\n",
    "        total -= roman_to_int[s[i]]\n",
    "    else:\n",
    "        total += roman_to_int[s[i]]\n",
    "\n",
    "print(total)"
   ]
  },
  {
   "cell_type": "code",
   "execution_count": 90,
   "metadata": {},
   "outputs": [
    {
     "data": {
      "text/plain": [
       "True"
      ]
     },
     "execution_count": 90,
     "metadata": {},
     "output_type": "execute_result"
    }
   ],
   "source": [
    "parenthesis = {\n",
    "    '(' : ')',\n",
    "    '[' : ']',\n",
    "    '{' : '}'\n",
    "}\n",
    "find = []\n",
    "found = []\n",
    "s = '({[})'\n",
    "\n",
    "def check(s):\n",
    "    for i in s:\n",
    "        find.append(i)\n",
    "        for j in find:\n",
    "            found.append(parenthesis[j])\n",
    "            for k in found:\n",
    "                if k in s:\n",
    "                    return True\n",
    "                else:\n",
    "                    return False\n",
    "check(s)"
   ]
  },
  {
   "cell_type": "code",
   "execution_count": 164,
   "metadata": {},
   "outputs": [
    {
     "name": "stdout",
     "output_type": "stream",
     "text": [
      "False\n"
     ]
    }
   ],
   "source": [
    "parenthesis = {\n",
    "    '(' : ')',\n",
    "    '[' : ']',\n",
    "    '{' : '}'\n",
    "}\n",
    "stack = []\n",
    "string = ']'\n",
    "\n",
    "for char in string:\n",
    "    # Append the found opening bracket in the stack\n",
    "    if char in parenthesis:\n",
    "        stack.append(char)\n",
    "    # Check if the found closing bracket matches the last opening bracket\n",
    "    elif char in parenthesis.values():\n",
    "        if not stack or parenthesis[stack.pop()] != char:\n",
    "            print(False)\n",
    "            break\n",
    "else:\n",
    "    # If stack is empty, all brackets are balanced\n",
    "    print(not stack)\n"
   ]
  },
  {
   "cell_type": "code",
   "execution_count": 154,
   "metadata": {},
   "outputs": [
    {
     "name": "stdout",
     "output_type": "stream",
     "text": [
      "Empty\n"
     ]
    }
   ],
   "source": [
    "stack = []\n",
    "if stack:\n",
    "    print(\"Not empty\")\n",
    "elif not stack:\n",
    "    print(\"Empty\")"
   ]
  },
  {
   "cell_type": "code",
   "execution_count": 132,
   "metadata": {},
   "outputs": [
    {
     "name": "stdout",
     "output_type": "stream",
     "text": [
      "Stack is empty\n"
     ]
    }
   ],
   "source": [
    "class Solution:\n",
    "    def isValid(self, s: str) -> bool:\n",
    "        parenthesis = {\n",
    "            '(' : ')',\n",
    "            '[' : ']',\n",
    "            '{' : '}'\n",
    "        }\n",
    "        find = []\n",
    "        found = []\n",
    "        \n",
    "        for i in s:\n",
    "            find.append(i)\n",
    "            for j in find:\n",
    "                found.append(parenthesis[j])\n",
    "                for k in found:\n",
    "                    if k in s:\n",
    "                        return True\n",
    "                    else:\n",
    "                        return False"
   ]
  },
  {
   "cell_type": "code",
   "execution_count": 14,
   "metadata": {},
   "outputs": [
    {
     "name": "stdout",
     "output_type": "stream",
     "text": [
      "empty\n"
     ]
    }
   ],
   "source": [
    "stack = []\n",
    "if not stack:\n",
    "    print('empty')\n",
    "elif stack:\n",
    "    print(\"not empty\")"
   ]
  },
  {
   "cell_type": "code",
   "execution_count": 14,
   "metadata": {},
   "outputs": [
    {
     "name": "stdout",
     "output_type": "stream",
     "text": [
      "998\n"
     ]
    }
   ],
   "source": [
    "romanDict = {'I': 1, 'V': 5, 'X': 10, 'L': 50,'C': 100, 'D': 500, 'M': 1000}\n",
    "total = 0\n",
    "s = 'CMXCVIII'\n",
    "\n",
    "\n",
    "for index in range(len(s)): \n",
    "    if index + 1 < len(s) and romanDict[s[index]] < romanDict[s[index + 1]]:\n",
    "        total -= romanDict[s[index]]\n",
    "    else:\n",
    "        total += romanDict[s[index]]\n",
    "\n",
    "print(total)"
   ]
  },
  {
   "cell_type": "code",
   "execution_count": 15,
   "metadata": {},
   "outputs": [
    {
     "data": {
      "text/plain": [
       "997"
      ]
     },
     "execution_count": 15,
     "metadata": {},
     "output_type": "execute_result"
    }
   ],
   "source": [
    "def romanToInteger(s:str) -> int:\n",
    "    romanDict = {'I': 1, 'V': 5, 'X': 10, 'L': 50,'C': 100, 'D': 500, 'M': 1000}\n",
    "    total = 0\n",
    "\n",
    "    for index in range(len(s)-1):\n",
    "        if romanDict[s[index]] < romanDict[s[index + 1]]:\n",
    "            total -= romanDict[s[index]]\n",
    "        else:\n",
    "            total += romanDict[s[index]]\n",
    "    \n",
    "    return total\n",
    "\n",
    "s = 'CMXCVIII'\n",
    "romanToInteger(s)"
   ]
  },
  {
   "cell_type": "code",
   "execution_count": 16,
   "metadata": {},
   "outputs": [
    {
     "name": "stdout",
     "output_type": "stream",
     "text": [
      "998\n"
     ]
    }
   ],
   "source": [
    "romanDict = {'I': 1, 'V': 5, 'X': 10, 'L': 50,'C': 100, 'D': 500, 'M': 1000}\n",
    "def romanToInterger(s:str) -> int:\n",
    "    total = 0\n",
    "\n",
    "    for index in range(len(s)):\n",
    "        if index + 1 < len(s) and romanDict[s[index]] < romanDict[s[index + 1]]:\n",
    "            total -= romanDict[s[index]]\n",
    "        else:\n",
    "            total += romanDict[s[index]]\n",
    "\n",
    "    print(total)\n",
    "\n",
    "s = 'CMXCVIII'\n",
    "romanToInterger(s)\n"
   ]
  },
  {
   "cell_type": "code",
   "execution_count": 46,
   "metadata": {},
   "outputs": [
    {
     "name": "stdout",
     "output_type": "stream",
     "text": [
      "998\n"
     ]
    }
   ],
   "source": [
    "romanDict = {'I': 1, 'V': 5, 'X': 10, 'L': 50,'C': 100, 'D': 500, 'M': 1000}\n",
    "total = 0\n",
    "s = 'CMXCVIII'\n",
    "\n",
    "for index in range(len(s)):\n",
    "    if index + 1 < len(s) and romanDict[s[index]] < romanDict[s[index + 1]]:\n",
    "        total -= romanDict[s[index]]\n",
    "    else:\n",
    "        total += romanDict[s[index]]\n",
    "\n",
    "print(total)\n",
    "    # print(s[index])"
   ]
  },
  {
   "cell_type": "code",
   "execution_count": 71,
   "metadata": {},
   "outputs": [
    {
     "name": "stdout",
     "output_type": "stream",
     "text": [
      "True\n"
     ]
    }
   ],
   "source": [
    "brackets = {'(':')','{':'}','[':']'}\n",
    "stack = []\n",
    "\n",
    "string = '{[]}'\n",
    "\n",
    "for char in string:\n",
    "    if char in brackets:\n",
    "        stack.append(char)\n",
    "    else:\n",
    "        if char in brackets.values():\n",
    "            if not stack or brackets[stack.pop()] != char:\n",
    "                print(False)\n",
    "                break\n",
    "\n",
    "else:\n",
    "    print(not stack)"
   ]
  },
  {
   "cell_type": "code",
   "execution_count": 29,
   "metadata": {},
   "outputs": [
    {
     "data": {
      "text/plain": [
       "True"
      ]
     },
     "execution_count": 29,
     "metadata": {},
     "output_type": "execute_result"
    }
   ],
   "source": [
    "brackets = {'(':')','{':'}','[':']'}\n",
    "\n",
    "def checkBrackets(s:str) -> bool:\n",
    "    stack = []\n",
    "    for char in s:\n",
    "        if char in brackets:\n",
    "            stack.append(char)\n",
    "        else:\n",
    "            if char in brackets.values():\n",
    "                if stack is None or brackets[stack.pop()] != char:\n",
    "                    return False\n",
    "                \n",
    "    else:\n",
    "        if not stack:\n",
    "            return True\n",
    "        \n",
    "s = '([{}])'\n",
    "checkBrackets(s)"
   ]
  },
  {
   "cell_type": "code",
   "execution_count": 7,
   "metadata": {},
   "outputs": [
    {
     "name": "stdout",
     "output_type": "stream",
     "text": [
      "10-->20-->30-->end\n"
     ]
    }
   ],
   "source": [
    "class Node:\n",
    "    def __init__(self,data):\n",
    "        self.data = data\n",
    "        self.next = None\n",
    "\n",
    "class LinkedList:\n",
    "    def __init__(self):\n",
    "        self.head = None\n",
    "\n",
    "    def append(self,data):\n",
    "        new_node = Node(data)\n",
    "        if self.head is None:\n",
    "            self.head = new_node\n",
    "        else:\n",
    "            current = self.head\n",
    "            while current.next:\n",
    "                current = current.next\n",
    "            current.next = new_node\n",
    "\n",
    "    def display(self):\n",
    "        if self.head is None:\n",
    "            return \"Linked list is empty\"\n",
    "        else:\n",
    "            current = self.head\n",
    "            while current:\n",
    "                print(current.data,end='-->')\n",
    "                current = current.next\n",
    "            print(\"end\")\n",
    "    \n",
    "l1 = LinkedList()\n",
    "l1.append(10)\n",
    "l1.append(20)\n",
    "l1.append(30)\n",
    "\n",
    "l1.display()"
   ]
  },
  {
   "cell_type": "code",
   "execution_count": 6,
   "metadata": {},
   "outputs": [
    {
     "name": "stdout",
     "output_type": "stream",
     "text": [
      "{'p': 1, 'a': 2, 'n': 1, 'k': 1, 'j': 1}\n"
     ]
    }
   ],
   "source": [
    "name = 'pankaj'\n",
    "count = {}\n",
    "\n",
    "for char in name:\n",
    "    if char in count:\n",
    "        count[char] += 1\n",
    "    else:\n",
    "        count[char] = 1\n",
    "\n",
    "print(count)"
   ]
  },
  {
   "cell_type": "code",
   "execution_count": 38,
   "metadata": {},
   "outputs": [
    {
     "name": "stdout",
     "output_type": "stream",
     "text": [
      "True\n",
      "True\n",
      "True\n",
      "{1: 3, 2: 2, 3: 1}\n"
     ]
    }
   ],
   "source": [
    "arr = [1,2,2,1,1,3]\n",
    "count = {}\n",
    "for val in arr:\n",
    "    if val in count:\n",
    "        count[val] += 1\n",
    "    else:\n",
    "        count[val] = 1\n",
    "\n",
    "count_list = []\n",
    "for k,v in count.items():\n",
    "    count_list.append(v)\n",
    "    for j in range(1,len(count_list)):\n",
    "        if count_list[j-1] == count_list[j]:\n",
    "            print(False)\n",
    "            break\n",
    "        else:\n",
    "            print(True)\n",
    "        \n",
    "\n",
    "print(count)"
   ]
  },
  {
   "cell_type": "code",
   "execution_count": 78,
   "metadata": {},
   "outputs": [
    {
     "name": "stdout",
     "output_type": "stream",
     "text": [
      "{1: 3, 2: 2, 3: 2}\n"
     ]
    },
    {
     "data": {
      "text/plain": [
       "False"
      ]
     },
     "execution_count": 78,
     "metadata": {},
     "output_type": "execute_result"
    }
   ],
   "source": [
    "def uniqueOccurance(arr)->bool:\n",
    "    count = {}  \n",
    "    for value in arr:\n",
    "        if value in count:\n",
    "            count[value] += 1\n",
    "        else:\n",
    "            count[value] = 1\n",
    "    print(count)\n",
    "\n",
    "\n",
    "    occurance = list(count.values())\n",
    "    return len(occurance) == len(set(occurance))\n",
    "\n",
    "arr = [1,1,1,2,2,3]\n",
    "uniqueOccurance(arr) "
   ]
  },
  {
   "cell_type": "code",
   "execution_count": 82,
   "metadata": {},
   "outputs": [
    {
     "name": "stdout",
     "output_type": "stream",
     "text": [
      "{1, 2, 3, 4, 5}\n"
     ]
    }
   ],
   "source": [
    "num = [1,2,3,4,5,4]\n",
    "seenset = set(num)\n",
    "print(seenset)"
   ]
  }
 ],
 "metadata": {
  "kernelspec": {
   "display_name": "Python 3",
   "language": "python",
   "name": "python3"
  },
  "language_info": {
   "codemirror_mode": {
    "name": "ipython",
    "version": 3
   },
   "file_extension": ".py",
   "mimetype": "text/x-python",
   "name": "python",
   "nbconvert_exporter": "python",
   "pygments_lexer": "ipython3",
   "version": "3.12.5"
  }
 },
 "nbformat": 4,
 "nbformat_minor": 2
}
